{
 "cells": [
  {
   "cell_type": "markdown",
   "id": "a224d836",
   "metadata": {},
   "source": [
    "### Question 1"
   ]
  },
  {
   "cell_type": "code",
   "execution_count": 17,
   "id": "c757a5d8",
   "metadata": {},
   "outputs": [],
   "source": [
    "def moveZeros(nums):\n",
    "    left = 0\n",
    "    for right in range(len(nums)):\n",
    "        if nums[right]!=0:\n",
    "            nums[left],nums[right]=nums[right],nums[left]\n",
    "            left+=1\n",
    "    return nums"
   ]
  },
  {
   "cell_type": "code",
   "execution_count": 18,
   "id": "198f7f03",
   "metadata": {},
   "outputs": [
    {
     "data": {
      "text/plain": [
       "[1, 3, 2, 0, 0]"
      ]
     },
     "execution_count": 18,
     "metadata": {},
     "output_type": "execute_result"
    }
   ],
   "source": [
    "moveZeros([1,0,3,2,0])"
   ]
  },
  {
   "cell_type": "code",
   "execution_count": 19,
   "id": "e7d65e99",
   "metadata": {},
   "outputs": [
    {
     "data": {
      "text/plain": [
       "[1, 3, 12, 0, 0]"
      ]
     },
     "execution_count": 19,
     "metadata": {},
     "output_type": "execute_result"
    }
   ],
   "source": [
    "moveZeros([0,1,0,3,12])"
   ]
  },
  {
   "cell_type": "markdown",
   "id": "45e35e93",
   "metadata": {},
   "source": [
    "### Question 2"
   ]
  },
  {
   "cell_type": "code",
   "execution_count": 8,
   "id": "93702bbf",
   "metadata": {},
   "outputs": [
    {
     "data": {
      "text/plain": [
       "-1"
      ]
     },
     "execution_count": 8,
     "metadata": {},
     "output_type": "execute_result"
    }
   ],
   "source": [
    "def UniqueChar(string):\n",
    "    count = {}\n",
    "    for char in string:\n",
    "        count[char]=count.get(char,0)+1\n",
    "        \n",
    "    for i in range(len(string)):\n",
    "        if count[string[i]]==1:\n",
    "            return i\n",
    "    return -1\n",
    "UniqueChar(\"aabb\")"
   ]
  },
  {
   "cell_type": "code",
   "execution_count": 9,
   "id": "537e58d0",
   "metadata": {},
   "outputs": [
    {
     "data": {
      "text/plain": [
       "0"
      ]
     },
     "execution_count": 9,
     "metadata": {},
     "output_type": "execute_result"
    }
   ],
   "source": [
    "UniqueChar(\"leetcode\")"
   ]
  },
  {
   "cell_type": "code",
   "execution_count": 11,
   "id": "f98402fe",
   "metadata": {},
   "outputs": [
    {
     "data": {
      "text/plain": [
       "2"
      ]
     },
     "execution_count": 11,
     "metadata": {},
     "output_type": "execute_result"
    }
   ],
   "source": [
    "UniqueChar(\"loveleetcode\")"
   ]
  }
 ],
 "metadata": {
  "kernelspec": {
   "display_name": "Python 3 (ipykernel)",
   "language": "python",
   "name": "python3"
  },
  "language_info": {
   "codemirror_mode": {
    "name": "ipython",
    "version": 3
   },
   "file_extension": ".py",
   "mimetype": "text/x-python",
   "name": "python",
   "nbconvert_exporter": "python",
   "pygments_lexer": "ipython3",
   "version": "3.9.16"
  }
 },
 "nbformat": 4,
 "nbformat_minor": 5
}
