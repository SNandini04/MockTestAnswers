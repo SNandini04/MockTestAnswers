{
 "cells": [
  {
   "cell_type": "markdown",
   "id": "71fe56e6",
   "metadata": {},
   "source": [
    "## Answer 1\n"
   ]
  },
  {
   "cell_type": "code",
   "execution_count": 6,
   "id": "e43ad01c",
   "metadata": {},
   "outputs": [],
   "source": [
    "class Stack:\n",
    "    def __init__(self):\n",
    "        self.stack = []\n",
    "        \n",
    "    def push(self,item):\n",
    "        self.stack.append(item)\n",
    "        \n",
    "    def pop(self):\n",
    "        if not self.isEmpty():\n",
    "            return self.stack.pop()\n",
    "        else:\n",
    "            raise IndexError(\"Stack is empty,cannot pop an item\")\n",
    "        \n",
    "    def isEmpty(self):\n",
    "        return len(self.stack)==0\n",
    "\n",
    "obj = Stack()"
   ]
  },
  {
   "cell_type": "code",
   "execution_count": 7,
   "id": "767dc6ad",
   "metadata": {},
   "outputs": [],
   "source": [
    "obj.push(10)\n",
    "obj.push(5)\n",
    "obj.push(6)"
   ]
  },
  {
   "cell_type": "code",
   "execution_count": 8,
   "id": "49504f82",
   "metadata": {},
   "outputs": [
    {
     "data": {
      "text/plain": [
       "6"
      ]
     },
     "execution_count": 8,
     "metadata": {},
     "output_type": "execute_result"
    }
   ],
   "source": [
    "obj.pop()"
   ]
  },
  {
   "cell_type": "code",
   "execution_count": 9,
   "id": "1005c1bc",
   "metadata": {},
   "outputs": [
    {
     "data": {
      "text/plain": [
       "5"
      ]
     },
     "execution_count": 9,
     "metadata": {},
     "output_type": "execute_result"
    }
   ],
   "source": [
    "obj.pop()"
   ]
  },
  {
   "cell_type": "code",
   "execution_count": 10,
   "id": "407fe4c3",
   "metadata": {},
   "outputs": [
    {
     "data": {
      "text/plain": [
       "10"
      ]
     },
     "execution_count": 10,
     "metadata": {},
     "output_type": "execute_result"
    }
   ],
   "source": [
    "obj.pop()"
   ]
  },
  {
   "cell_type": "code",
   "execution_count": 11,
   "id": "f485ff44",
   "metadata": {},
   "outputs": [
    {
     "data": {
      "text/plain": [
       "True"
      ]
     },
     "execution_count": 11,
     "metadata": {},
     "output_type": "execute_result"
    }
   ],
   "source": [
    "obj.isEmpty()"
   ]
  },
  {
   "cell_type": "markdown",
   "id": "b115df96",
   "metadata": {},
   "source": [
    "## Answer 2"
   ]
  },
  {
   "cell_type": "code",
   "execution_count": 20,
   "id": "b9ea1fce",
   "metadata": {},
   "outputs": [],
   "source": [
    "class Queue:\n",
    "    def __init__(self):\n",
    "        self.queue = []\n",
    "\n",
    "    def enqueue(self, item):\n",
    "        self.queue.append(item)\n",
    "\n",
    "    def dequeue(self):\n",
    "        if not self.isEmpty():\n",
    "            return self.queue.pop(0)\n",
    "        else:\n",
    "            raise IndexError(\"Queue is empty,Cannot dequeue an item\")\n",
    "\n",
    "    def isEmpty(self):\n",
    "        return len(self.queue) == 0\n",
    "\n",
    "obj=Queue()"
   ]
  },
  {
   "cell_type": "code",
   "execution_count": 21,
   "id": "e4f03c30",
   "metadata": {},
   "outputs": [],
   "source": [
    "obj.enqueue(10)\n",
    "obj.enqueue(15)\n",
    "obj.enqueue(20)"
   ]
  },
  {
   "cell_type": "code",
   "execution_count": 22,
   "id": "150dd9ef",
   "metadata": {},
   "outputs": [
    {
     "data": {
      "text/plain": [
       "10"
      ]
     },
     "execution_count": 22,
     "metadata": {},
     "output_type": "execute_result"
    }
   ],
   "source": [
    "obj.dequeue()"
   ]
  },
  {
   "cell_type": "code",
   "execution_count": 23,
   "id": "e1102173",
   "metadata": {},
   "outputs": [
    {
     "data": {
      "text/plain": [
       "15"
      ]
     },
     "execution_count": 23,
     "metadata": {},
     "output_type": "execute_result"
    }
   ],
   "source": [
    "obj.dequeue()"
   ]
  },
  {
   "cell_type": "code",
   "execution_count": 24,
   "id": "03bfff5f",
   "metadata": {},
   "outputs": [
    {
     "data": {
      "text/plain": [
       "20"
      ]
     },
     "execution_count": 24,
     "metadata": {},
     "output_type": "execute_result"
    }
   ],
   "source": [
    "obj.dequeue()"
   ]
  },
  {
   "cell_type": "code",
   "execution_count": 25,
   "id": "6c4b155b",
   "metadata": {},
   "outputs": [
    {
     "data": {
      "text/plain": [
       "True"
      ]
     },
     "execution_count": 25,
     "metadata": {},
     "output_type": "execute_result"
    }
   ],
   "source": [
    "obj.isEmpty()"
   ]
  }
 ],
 "metadata": {
  "kernelspec": {
   "display_name": "Python 3 (ipykernel)",
   "language": "python",
   "name": "python3"
  },
  "language_info": {
   "codemirror_mode": {
    "name": "ipython",
    "version": 3
   },
   "file_extension": ".py",
   "mimetype": "text/x-python",
   "name": "python",
   "nbconvert_exporter": "python",
   "pygments_lexer": "ipython3",
   "version": "3.9.16"
  }
 },
 "nbformat": 4,
 "nbformat_minor": 5
}
